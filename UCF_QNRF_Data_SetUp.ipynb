{
  "nbformat": 4,
  "nbformat_minor": 0,
  "metadata": {
    "colab": {
      "name": "UCF_QNRF_Data SetUp.ipynb",
      "provenance": [],
      "collapsed_sections": [],
      "include_colab_link": true
    },
    "kernelspec": {
      "name": "python3",
      "display_name": "Python 3"
    },
    "language_info": {
      "name": "python"
    }
  },
  "cells": [
    {
      "cell_type": "markdown",
      "metadata": {
        "id": "view-in-github",
        "colab_type": "text"
      },
      "source": [
        "<a href=\"https://colab.research.google.com/github/rukmals/crowd_counting_domain_adaption_model_development/blob/main/UCF_QNRF_Data_SetUp.ipynb\" target=\"_parent\"><img src=\"https://colab.research.google.com/assets/colab-badge.svg\" alt=\"Open In Colab\"/></a>"
      ]
    },
    {
      "cell_type": "code",
      "metadata": {
        "id": "tkSwG-58I1f9",
        "outputId": "51e09c24-6abd-4cfc-8ac5-ffd2c8f2c5bc",
        "colab": {
          "base_uri": "https://localhost:8080/"
        }
      },
      "source": [
        "from google.colab import drive\n",
        "drive.mount('/content/drive')"
      ],
      "execution_count": 1,
      "outputs": [
        {
          "output_type": "stream",
          "name": "stdout",
          "text": [
            "Mounted at /content/drive\n"
          ]
        }
      ]
    },
    {
      "cell_type": "code",
      "metadata": {
        "colab": {
          "base_uri": "https://localhost:8080/"
        },
        "id": "-AAWAhXfCqCk",
        "outputId": "b73a607f-4b8c-4364-8a08-9f726a3a61be"
      },
      "source": [
        "import numpy as np  # linear algebra\n",
        "import pandas as pd  # data processing, CSV file I/O (e.g. pd.read_csv)\n",
        "\n",
        "import os\n",
        "from tensorflow.keras.preprocessing import image\n",
        "\n",
        "import scipy\n",
        "from scipy.io import loadmat\n",
        "import glob\n",
        "import h5py\n",
        "import time\n",
        "from sklearn.externals.joblib import Parallel, delayed\n",
        "from torchvision import datasets, transforms"
      ],
      "execution_count": 2,
      "outputs": [
        {
          "output_type": "stream",
          "name": "stderr",
          "text": [
            "/usr/local/lib/python3.7/dist-packages/sklearn/externals/joblib/__init__.py:15: FutureWarning: sklearn.externals.joblib is deprecated in 0.21 and will be removed in 0.23. Please import this functionality directly from joblib, which can be installed with: pip install joblib. If this warning is raised when loading pickled models, you may need to re-serialize those models with scikit-learn 0.21+.\n",
            "  warnings.warn(msg, category=FutureWarning)\n"
          ]
        }
      ]
    },
    {
      "cell_type": "code",
      "metadata": {
        "id": "dT8FuVnWCFjs"
      },
      "source": [
        "test_setpath = \"/content/drive/MyDrive/Model_Test_Data/UCF-QNRF/UCF-QNRF_ECCV18/Train\""
      ],
      "execution_count": 3,
      "outputs": []
    },
    {
      "cell_type": "code",
      "metadata": {
        "id": "D_u9dUVoC1Uf"
      },
      "source": [
        "def gaussian_filter_density(gt):\n",
        "    print(gt.shape)\n",
        "    density = np.zeros(gt.shape, dtype=np.float32)\n",
        "    gt_count = np.count_nonzero(gt)\n",
        "    if gt_count == 0:\n",
        "        return density\n",
        "    #print(gt_count)\n",
        "    pts = np.array(list(zip(np.nonzero(gt)[1], np.nonzero(gt)[0])))\n",
        "    leafsize = 2048\n",
        "    # build kdtree\n",
        "    pts_copy = pts.copy()\n",
        "    tree = scipy.spatial.KDTree(pts_copy, leafsize=leafsize)\n",
        "    # query kdtree\n",
        "    distances, locations = tree.query(pts, k=4)\n",
        "    print('generate density...')\n",
        "    for i, pt in enumerate(pts):\n",
        "        pt2d = np.zeros(gt.shape, dtype=np.float32)\n",
        "        pt2d[pt[1], pt[0]] = 1.\n",
        "        if gt_count > 1:\n",
        "            sigma = (distances[i][1] + distances[i][2] + distances[i][3]) * 0.1\n",
        "        else:\n",
        "            sigma = np.average(np.array(gt.shape)) / 2. / 2.  # case: 1 point\n",
        "        density += scipy.ndimage.filters.gaussian_filter(pt2d, sigma, mode='constant')\n",
        "    print('done.')\n",
        "    return density"
      ],
      "execution_count": 4,
      "outputs": []
    },
    {
      "cell_type": "code",
      "metadata": {
        "id": "gHD5AfndDFts"
      },
      "source": [
        "def generate_density_map(img_path):\n",
        "    img_path = \"/content/drive/MyDrive/Model_Test_Data/UCF-QNRF/UCF-QNRF_ECCV18/Train/\"+ img_path\n",
        "    #print(img_path)\n",
        "    mat_path = img_path.replace('.jpg', '.mat').replace('.','_ann.')\n",
        "    #print(mat_path)\n",
        "    mat = scipy.io.loadmat(mat_path)\n",
        "    imgfile = image.load_img(img_path)\n",
        "    img = image.img_to_array(imgfile)\n",
        "    k = np.zeros((img.shape[0], img.shape[1]))\n",
        "    gt = mat[\"annPoints\"]\n",
        "    #print(mat)\n",
        "    #print(gt)\n",
        "    for i in range(0, len(gt)):\n",
        "        if int(gt[i][1]) < img.shape[0] and int(gt[i][0]) < img.shape[1]:\n",
        "            k[int(gt[i][1]), int(gt[i][0])] = 1\n",
        "    k = gaussian_filter_density(k)\n",
        "    output_path = img_path.replace('.jpg', '.h5').replace('Train/','ground-truth-h5-train/')\n",
        "    output_dir = os.path.dirname(output_path)\n",
        "    os.makedirs(output_dir, exist_ok=True)\n",
        "    print(\"output\", output_path)\n",
        "    with h5py.File(output_path, 'w') as hf:\n",
        "        hf['density'] = k\n",
        "    return img_path"
      ],
      "execution_count": 5,
      "outputs": []
    },
    {
      "cell_type": "code",
      "metadata": {
        "colab": {
          "base_uri": "https://localhost:8080/"
        },
        "id": "eE2KvKKmDMkm",
        "outputId": "9ee8b783-baca-421d-e42a-b7c846b125bf"
      },
      "source": [
        "test_list = os.listdir(test_setpath)\n",
        "print(test_list)"
      ],
      "execution_count": 6,
      "outputs": [
        {
          "output_type": "stream",
          "name": "stdout",
          "text": [
            "['img_0027.jpg', 'img_0775_ann.mat', 'img_1082_ann.mat', 'img_0697.jpg', 'img_0600_ann.mat', 'img_0922.jpg', 'img_0691.jpg', 'img_0262_ann.mat', 'img_0097.jpg', 'img_1097_ann.mat', 'img_0155.jpg', 'img_1140_ann.mat', 'img_0521.jpg', 'img_1120.jpg', 'img_0345_ann.mat', 'img_1112_ann.mat', 'img_0174.jpg', 'img_1080.jpg', 'img_0241.jpg', 'img_0249.jpg', 'img_1171.jpg', 'img_0606_ann.mat', 'img_0706.jpg', 'img_0835_ann.mat', 'img_0885.jpg', 'img_0825_ann.mat', 'img_0433_ann.mat', 'img_0558.jpg', 'img_0849.jpg', 'img_0282_ann.mat', 'img_0987.jpg', 'img_0041_ann.mat', 'img_1134_ann.mat', 'img_0963.jpg', 'img_0663.jpg', 'img_0627_ann.mat', 'img_0686.jpg', 'img_0951_ann.mat', 'img_0970_ann.mat', 'img_0484.jpg', 'img_0415.jpg', 'img_0556_ann.mat', 'img_0437.jpg', 'img_0582_ann.mat', 'img_0726_ann.mat', 'img_0871_ann.mat', 'img_0085.jpg', 'img_0867.jpg', 'img_0292_ann.mat', 'img_0804_ann.mat', 'img_0171_ann.mat', 'img_0525.jpg', 'img_0639.jpg', 'img_0204.jpg', 'img_0081_ann.mat', 'img_0184.jpg', 'img_0433.jpg', 'img_0473.jpg', 'img_0293_ann.mat', 'img_0018.jpg', 'img_1128.jpg', 'img_0218_ann.mat', 'img_1167_ann.mat', 'img_0375.jpg', 'img_1144.jpg', 'img_0314_ann.mat', 'img_0245_ann.mat', 'img_1183.jpg', 'img_0188.jpg', 'img_0083.jpg', 'img_0578_ann.mat', 'img_0337.jpg', 'img_0921_ann.mat', 'img_1122.jpg', 'img_0699.jpg', 'img_0971_ann.mat', 'img_1127.jpg', 'img_0263.jpg', 'img_0965_ann.mat', 'img_1079.jpg', 'img_0965.jpg', 'img_1053_ann.mat', 'img_0321_ann.mat', 'img_1051.jpg', 'img_0658.jpg', 'img_0526_ann.mat', 'img_1043_ann.mat', 'img_0066.jpg', 'img_0708.jpg', 'img_0200_ann.mat', 'img_0254_ann.mat', 'img_0495.jpg', 'img_0791_ann.mat', 'img_0749_ann.mat', 'img_0789_ann.mat', 'img_0807_ann.mat', 'img_0054_ann.mat', 'img_1054.jpg', 'img_0453_ann.mat', 'img_0473_ann.mat', 'img_0333.jpg', 'img_0448_ann.mat', 'img_0269.jpg', 'img_0052_ann.mat', 'img_0052.jpg', 'img_0588_ann.mat', 'img_0169.jpg', 'img_1044.jpg', 'img_0912.jpg', 'img_0075_ann.mat', 'img_0130.jpg', 'img_0924.jpg', 'img_0897_ann.mat', 'img_0592_ann.mat', 'img_0999_ann.mat', 'img_0493.jpg', 'img_0042.jpg', 'img_0315_ann.mat', 'img_0631.jpg', 'img_0235.jpg', 'img_0352_ann.mat', 'img_1077_ann.mat', 'img_0327_ann.mat', 'img_0969_ann.mat', 'img_1159.jpg', 'img_0350.jpg', 'img_1070_ann.mat', 'img_0356_ann.mat', 'img_1151_ann.mat', 'img_1174.jpg', 'img_1038_ann.mat', 'img_0381.jpg', 'img_0077_ann.mat', 'img_0443_ann.mat', 'img_1110_ann.mat', 'img_0516_ann.mat', 'img_0618.jpg', 'img_0007_ann.mat', 'img_0025.jpg', 'img_0231.jpg', 'img_0001_ann.mat', 'img_0939.jpg', 'img_0135.jpg', 'img_0902.jpg', 'img_0157_ann.mat', 'img_0339_ann.mat', 'img_0504.jpg', 'img_0307.jpg', 'img_0927_ann.mat', 'img_1066.jpg', 'img_0421_ann.mat', 'img_0102_ann.mat', 'img_1169_ann.mat', 'img_1105.jpg', 'img_0529_ann.mat', 'img_0764_ann.mat', 'img_1080_ann.mat', 'img_0113_ann.mat', 'img_0598.jpg', 'img_0336.jpg', 'img_1022_ann.mat', 'img_0346.jpg', 'img_0289_ann.mat', 'img_0607_ann.mat', 'img_0466.jpg', 'img_0463.jpg', 'img_0449.jpg', 'img_0198.jpg', 'img_0389_ann.mat', 'img_0913.jpg', 'img_0306.jpg', 'img_1090_ann.mat', 'img_0760.jpg', 'img_1188.jpg', 'img_0074.jpg', 'img_0500.jpg', 'img_0785.jpg', 'img_0721_ann.mat', 'img_0940_ann.mat', 'img_0126.jpg', 'img_0929.jpg', 'img_0868.jpg', 'img_0176_ann.mat', 'img_0553_ann.mat', 'img_0768.jpg', 'img_1057_ann.mat', 'img_0620.jpg', 'img_0781.jpg', 'img_0501_ann.mat', 'img_0915_ann.mat', 'img_0727_ann.mat', 'img_0587.jpg', 'img_0297_ann.mat', 'img_0603.jpg', 'img_0127_ann.mat', 'img_0061.jpg', 'img_0129.jpg', 'img_0819.jpg', 'img_1043.jpg', 'img_0357.jpg', 'img_0194_ann.mat', 'img_0683_ann.mat', 'img_1002.jpg', 'img_0465.jpg', 'img_0580.jpg', 'img_1147_ann.mat', 'img_0806.jpg', 'img_1186_ann.mat', 'img_0596_ann.mat', 'img_1055_ann.mat', 'img_0665_ann.mat', 'img_0494.jpg', 'img_0576_ann.mat', 'img_0801.jpg', 'img_1081_ann.mat', 'img_0379_ann.mat', 'img_0426.jpg', 'img_1041_ann.mat', 'img_0671.jpg', 'img_0286_ann.mat', 'img_0693_ann.mat', 'img_0229.jpg', 'img_0555_ann.mat', 'img_0857_ann.mat', 'img_0282.jpg', 'img_0806_ann.mat', 'img_0948.jpg', 'img_0491_ann.mat', 'img_0076.jpg', 'img_1171_ann.mat', 'img_0919.jpg', 'img_0561.jpg', 'img_0687_ann.mat', 'img_0705.jpg', 'img_0828_ann.mat', 'img_0847_ann.mat', 'img_0718.jpg', 'img_0870.jpg', 'img_0911.jpg', 'img_0602.jpg', 'img_0635_ann.mat', 'img_0845_ann.mat', 'img_0785_ann.mat', 'img_0825.jpg', 'img_1101.jpg', 'img_0771_ann.mat', 'img_0411_ann.mat', 'img_0151.jpg', 'img_1111_ann.mat', 'img_0886.jpg', 'img_0926_ann.mat', 'img_0221.jpg', 'img_0887.jpg', 'img_1075.jpg', 'img_0496_ann.mat', 'img_0818.jpg', 'img_1168.jpg', 'img_0511_ann.mat', 'img_0602_ann.mat', 'img_0522.jpg', 'img_0666_ann.mat', 'img_1094.jpg', 'img_1180.jpg', 'img_0028_ann.mat', 'img_0619_ann.mat', 'img_1160_ann.mat', 'img_1040_ann.mat', 'img_0571_ann.mat', 'img_0206.jpg', 'img_0462.jpg', 'img_1146.jpg', 'img_0947_ann.mat', 'img_0704.jpg', 'img_0843.jpg', 'img_0668.jpg', 'img_0692.jpg', 'img_0309.jpg', 'img_1062.jpg', 'img_1189.jpg', 'img_1002_ann.mat', 'img_1197_ann.mat', 'img_1189_ann.mat', 'img_0396_ann.mat', 'img_0839.jpg', 'img_0577.jpg', 'img_0559.jpg', 'img_0365.jpg', 'img_0601_ann.mat', 'img_1187.jpg', 'img_0422_ann.mat', 'img_0247_ann.mat', 'img_0418_ann.mat', 'img_1168_ann.mat', 'img_0928_ann.mat', 'img_1104.jpg', 'img_0714.jpg', 'img_1017.jpg', 'img_0626.jpg', 'img_0788_ann.mat', 'img_0832_ann.mat', 'img_1025_ann.mat', 'img_0481_ann.mat', 'img_0669_ann.mat', 'img_0812_ann.mat', 'img_0997_ann.mat', 'img_0770.jpg', 'img_0298_ann.mat', 'img_0902_ann.mat', 'img_0722.jpg', 'img_0118_ann.mat', 'img_0325.jpg', 'img_0244_ann.mat', 'img_1075_ann.mat', 'img_0942_ann.mat', 'img_0958_ann.mat', 'img_0475.jpg', 'img_0697_ann.mat', 'img_0279.jpg', 'img_0505_ann.mat', 'img_1063.jpg', 'img_0160.jpg', 'img_1137_ann.mat', 'img_0057_ann.mat', 'img_0319_ann.mat', 'img_0183_ann.mat', 'img_0413.jpg', 'img_0456_ann.mat', 'img_1049_ann.mat', 'img_0175.jpg', 'img_0125_ann.mat', 'img_1193.jpg', 'img_0259.jpg', 'img_0656_ann.mat', 'img_0773_ann.mat', 'img_0777.jpg', 'img_0824_ann.mat', 'img_0575.jpg', 'img_0955.jpg', 'img_0959_ann.mat', 'img_0623.jpg', 'img_0946.jpg', 'img_0899_ann.mat', 'img_1000_ann.mat', 'img_0719.jpg', 'img_0943.jpg', 'img_0024.jpg', 'img_0128.jpg', 'img_0736_ann.mat', 'img_0763.jpg', 'img_0232.jpg', 'img_0900.jpg', 'img_0956_ann.mat', 'img_0060.jpg', 'img_0920.jpg', 'img_0748.jpg', 'img_0180.jpg', 'img_0353.jpg', 'img_0574_ann.mat', 'img_0465_ann.mat', 'img_1059_ann.mat', 'img_0671_ann.mat', 'img_1121_ann.mat', 'img_0689.jpg', 'img_1100_ann.mat', 'img_0977_ann.mat', 'img_0989.jpg', 'img_0899.jpg', 'img_1115_ann.mat', 'img_0204_ann.mat', 'img_0807.jpg', 'img_0301_ann.mat', 'img_0423_ann.mat', 'img_1135_ann.mat', 'img_0444.jpg', 'img_0823.jpg', 'img_0538.jpg', 'img_0561_ann.mat', 'img_0654.jpg', 'img_0374.jpg', 'img_1130_ann.mat', 'img_0964_ann.mat', 'img_0074_ann.mat', 'img_0047.jpg', 'img_1173_ann.mat', 'img_0273.jpg', 'img_0778.jpg', 'img_0805.jpg', 'img_0954_ann.mat', 'img_0068_ann.mat', 'img_0105_ann.mat', 'img_0483_ann.mat', 'img_0020.jpg', 'img_0176.jpg', 'img_1156.jpg', 'img_0879_ann.mat', 'img_0634.jpg', 'img_0679_ann.mat', 'img_0523_ann.mat', 'img_0215.jpg', 'img_0362_ann.mat', 'img_0600.jpg', 'img_0191_ann.mat', 'img_0254.jpg', 'img_0438_ann.mat', 'img_0429.jpg', 'img_0407_ann.mat', 'img_0147_ann.mat', 'img_0827.jpg', 'img_0542_ann.mat', 'img_0629_ann.mat', 'img_1201.jpg', 'img_0774.jpg', 'img_0612_ann.mat', 'img_0322.jpg', 'img_0361_ann.mat', 'img_1010.jpg', 'img_0384_ann.mat', 'img_0435.jpg', 'img_1139.jpg', 'img_0357_ann.mat', 'img_1126.jpg', 'img_0707_ann.mat', 'img_0027_ann.mat', 'img_0230_ann.mat', 'img_0272_ann.mat', 'img_0751.jpg', 'img_0949_ann.mat', 'img_1172.jpg', 'img_0639_ann.mat', 'img_0241_ann.mat', 'img_1125.jpg', 'img_0149.jpg', 'img_1178.jpg', 'img_0953.jpg', 'img_0154_ann.mat', 'img_0311_ann.mat', 'img_0182_ann.mat', 'img_0453.jpg', 'img_1069.jpg', 'img_0056.jpg', 'img_0742.jpg', 'img_1186.jpg', 'img_0868_ann.mat', 'img_0507_ann.mat', 'img_0275_ann.mat', 'img_0237.jpg', 'img_0050.jpg', 'img_0749.jpg', 'img_0464_ann.mat', 'img_0340_ann.mat', 'img_0395.jpg', 'img_0550_ann.mat', 'img_0454.jpg', 'img_0739_ann.mat', 'img_1181.jpg', 'img_0759.jpg', 'img_0711.jpg', 'img_0500_ann.mat', 'img_0845.jpg', 'img_0558_ann.mat', 'img_0633_ann.mat', 'img_0313.jpg', 'img_0069_ann.mat', 'img_0468_ann.mat', 'img_0341_ann.mat', 'img_0117_ann.mat', 'img_0747.jpg', 'img_1018_ann.mat', 'img_1110.jpg', 'img_0919_ann.mat', 'img_0040_ann.mat', 'img_0419.jpg', 'img_1164.jpg', 'img_0651.jpg', 'img_0338.jpg', 'img_1095.jpg', 'img_0192.jpg', 'img_0114_ann.mat', 'img_0012.jpg', 'img_0071.jpg', 'img_0794.jpg', 'img_1125_ann.mat', 'img_1166.jpg', 'img_0931.jpg', 'img_0132.jpg', 'img_0509.jpg', 'img_0119.jpg', 'img_0001.jpg', 'img_0903.jpg', 'img_1045_ann.mat', 'img_0275.jpg', 'img_0916.jpg', 'img_0034.jpg', 'img_0627.jpg', 'img_0636_ann.mat', 'img_0474.jpg', 'img_0320.jpg', 'img_0325_ann.mat', 'img_0124.jpg', 'img_1155_ann.mat', 'img_0476_ann.mat', 'img_1089_ann.mat', 'img_1149_ann.mat', 'img_0021_ann.mat', 'img_0687.jpg', 'img_0435_ann.mat', 'img_0637.jpg', 'img_0828.jpg', 'img_1169.jpg', 'img_0122.jpg', 'img_0569.jpg', 'img_1162.jpg', 'img_1157.jpg', 'img_0670_ann.mat', 'img_0663_ann.mat', 'img_1020.jpg', 'img_1103.jpg', 'img_0013.jpg', 'img_0643_ann.mat', 'img_1024.jpg', 'img_0234.jpg', 'img_0280.jpg', 'img_0522_ann.mat', 'img_0228_ann.mat', 'img_0062_ann.mat', 'img_0383_ann.mat', 'img_0546.jpg', 'img_0031.jpg', 'img_0621.jpg', 'img_1034_ann.mat', 'img_1114.jpg', 'img_0353_ann.mat', 'img_0757_ann.mat', 'img_0817.jpg', 'img_0296_ann.mat', 'img_0104_ann.mat', 'img_0987_ann.mat', 'img_1170.jpg', 'img_0020_ann.mat', 'img_1092_ann.mat', 'img_0451.jpg', 'img_1029.jpg', 'img_1072_ann.mat', 'img_0570.jpg', 'img_0130_ann.mat', 'img_0858.jpg', 'img_0262.jpg', 'img_0833.jpg', 'img_1031.jpg', 'img_1195_ann.mat', 'img_0506.jpg', 'img_0905_ann.mat', 'img_0051_ann.mat', 'img_0148_ann.mat', 'img_0872_ann.mat', 'img_0457.jpg', 'img_1026_ann.mat', 'img_0043_ann.mat', 'img_0738.jpg', 'img_0667_ann.mat', 'img_0800_ann.mat', 'img_0007.jpg', 'img_0524.jpg', 'img_0866.jpg', 'img_0604_ann.mat', 'img_0257.jpg', 'img_1006_ann.mat', 'img_0652_ann.mat', 'img_0699_ann.mat', 'img_0991_ann.mat', 'img_0490.jpg', 'img_1067.jpg', 'img_0347.jpg', 'img_0293.jpg', 'img_0177.jpg', 'img_0584_ann.mat', 'img_0054.jpg', 'img_0261.jpg', 'img_0678_ann.mat', 'img_0593_ann.mat', 'img_0471_ann.mat', 'img_0834_ann.mat', 'img_0890_ann.mat', 'img_0511.jpg', 'img_0843_ann.mat', 'img_0490_ann.mat', 'img_1106.jpg', 'img_0560_ann.mat', 'img_0815_ann.mat', 'img_0578.jpg', 'img_0376_ann.mat', 'img_0091_ann.mat', 'img_0251_ann.mat', 'img_0554.jpg', 'img_0939_ann.mat', 'img_0848_ann.mat', 'img_0237_ann.mat', 'img_0715.jpg', 'img_0885_ann.mat', 'img_1170_ann.mat', 'img_0649.jpg', 'img_0225_ann.mat', 'img_0998.jpg', 'img_1052_ann.mat', 'img_0782.jpg', 'img_1167.jpg', 'img_1114_ann.mat', 'img_0622_ann.mat', 'img_0929_ann.mat', 'img_0519.jpg', 'img_0683.jpg', 'img_0126_ann.mat', 'img_0737_ann.mat', 'img_0594.jpg', 'img_0070_ann.mat', 'img_0731.jpg', 'img_0556.jpg', 'img_0398.jpg', 'img_1100.jpg', 'img_0680_ann.mat', 'img_0716.jpg', 'img_0253_ann.mat', 'img_0413_ann.mat', 'img_0826_ann.mat', 'img_1074_ann.mat', 'img_0984_ann.mat', 'img_0520.jpg', 'img_0972_ann.mat', 'img_1064.jpg', 'img_0137_ann.mat', 'img_0790_ann.mat', 'img_0566_ann.mat', 'img_0536.jpg', 'img_0816_ann.mat', 'img_0622.jpg', 'img_0542.jpg', 'img_0515.jpg', 'img_0349.jpg', 'img_0202.jpg', 'img_0946_ann.mat', 'img_0750.jpg', 'img_0305.jpg', 'img_1156_ann.mat', 'img_0776_ann.mat', 'img_0399_ann.mat', 'img_1179_ann.mat', 'img_0633.jpg', 'img_0587_ann.mat', 'img_0796_ann.mat', 'img_0859_ann.mat', 'img_0212_ann.mat', 'img_0501.jpg', 'img_0337_ann.mat', 'img_0222_ann.mat', 'img_0769.jpg', 'img_0553.jpg', 'img_0851_ann.mat', 'img_0962.jpg', 'img_1155.jpg', 'img_0080_ann.mat', 'img_0173_ann.mat', 'img_0995.jpg', 'img_0416_ann.mat', 'img_1166_ann.mat', 'img_0427_ann.mat', 'img_0295.jpg', 'img_0441_ann.mat', 'img_0979.jpg', 'img_0411.jpg', 'img_0685.jpg', 'img_0933_ann.mat', 'img_0848.jpg', 'img_0540_ann.mat', 'img_0528_ann.mat', 'img_0400_ann.mat', 'img_0072_ann.mat', 'img_0995_ann.mat', 'img_1001.jpg', 'img_0756.jpg', 'img_0573.jpg', 'img_1004_ann.mat', 'img_0192_ann.mat', 'img_0482_ann.mat', 'img_0118.jpg', 'img_0548.jpg', 'img_1068.jpg', 'img_1141_ann.mat', 'img_0397.jpg', 'img_1133.jpg', 'img_1121.jpg', 'img_0541_ann.mat', 'img_0796.jpg', 'img_0364_ann.mat', 'img_0961.jpg', 'img_0512_ann.mat', 'img_0745_ann.mat', 'img_0739.jpg', 'img_1194_ann.mat', 'img_0747_ann.mat', 'img_0638.jpg', 'img_1127_ann.mat', 'img_1032_ann.mat', 'img_0240.jpg', 'img_1060.jpg', 'img_0539.jpg', 'img_0252.jpg', 'img_0486_ann.mat', 'img_0611_ann.mat', 'img_0608.jpg', 'img_0277_ann.mat', 'img_0733.jpg', 'img_0273_ann.mat', 'img_0976_ann.mat', 'img_0646.jpg', 'img_0093_ann.mat', 'img_0489.jpg', 'img_0630.jpg', 'img_0800.jpg', 'img_0853_ann.mat', 'img_0412_ann.mat', 'img_0670.jpg', 'img_0239_ann.mat', 'img_0457_ann.mat', 'img_0866_ann.mat', 'img_0978_ann.mat', 'img_0248_ann.mat', 'img_0363.jpg', 'img_1098_ann.mat', 'img_0308.jpg', 'img_0310.jpg', 'img_0948_ann.mat', 'img_0427.jpg', 'img_1102_ann.mat', 'img_0931_ann.mat', 'img_0193.jpg', 'img_0591_ann.mat', 'img_0048_ann.mat', 'img_0284_ann.mat', 'img_0733_ann.mat', 'img_1079_ann.mat', 'img_0888_ann.mat', 'img_1143.jpg', 'img_0387.jpg', 'img_0378.jpg', 'img_0740.jpg', 'img_0520_ann.mat', 'img_0601.jpg', 'img_0029_ann.mat', 'img_0935_ann.mat', 'img_1198.jpg', 'img_0110_ann.mat', 'img_0106.jpg', 'img_0717.jpg', 'img_1071_ann.mat', 'img_0829.jpg', 'img_0769_ann.mat', 'img_0955_ann.mat', 'img_0762.jpg', 'img_0682_ann.mat', 'img_1040.jpg', 'img_0354_ann.mat', 'img_0117.jpg', 'img_0594_ann.mat', 'img_1106_ann.mat', 'img_0141.jpg', 'img_0404_ann.mat', 'img_0953_ann.mat', 'img_0109_ann.mat', 'img_0161.jpg', 'img_0548_ann.mat', 'img_0996.jpg', 'img_0112_ann.mat', 'img_0897.jpg', 'img_1088_ann.mat', 'img_0788.jpg', 'img_1012_ann.mat', 'img_0518.jpg', 'img_0753.jpg', 'img_0895.jpg', 'img_0352.jpg', 'img_0708_ann.mat', 'img_0168.jpg', 'img_0234_ann.mat', 'img_0541.jpg', 'img_0945_ann.mat', 'img_0320_ann.mat', 'img_0233.jpg', 'img_0480_ann.mat', 'img_0802_ann.mat', 'img_0973_ann.mat', 'img_0119_ann.mat', 'img_0756_ann.mat', 'img_0623_ann.mat', 'img_0855.jpg', 'img_0402.jpg', 'img_0019.jpg', 'img_0288_ann.mat', 'img_0499_ann.mat', 'img_0876_ann.mat', 'img_0755_ann.mat', 'img_0290.jpg', 'img_0116_ann.mat', 'img_0179_ann.mat', 'img_0016.jpg', 'img_0004_ann.mat', 'img_1093_ann.mat', 'img_0368.jpg', 'img_1197.jpg', 'img_0854.jpg', 'img_0046_ann.mat', 'img_1032.jpg', 'img_0591.jpg', 'img_1065.jpg', 'img_0265_ann.mat', 'img_0530_ann.mat', 'img_1144_ann.mat', 'img_0106_ann.mat', 'img_0533_ann.mat', 'img_0371.jpg', 'img_0540.jpg', 'img_0089.jpg', 'img_0700_ann.mat', 'img_0203_ann.mat', 'img_0359.jpg', 'img_0390.jpg', 'img_0882.jpg', 'img_0667.jpg', 'img_0635.jpg', 'img_1009_ann.mat', 'img_0021.jpg', 'img_1045.jpg', 'img_0288.jpg', 'img_0983_ann.mat', 'img_0590.jpg', 'img_0190_ann.mat', 'img_0452_ann.mat', 'img_1117_ann.mat', 'img_0210_ann.mat', 'img_0283_ann.mat', 'img_0752_ann.mat', 'img_0510.jpg', 'img_0890.jpg', 'img_0238.jpg', 'img_0583_ann.mat', 'img_0880.jpg', 'img_0617_ann.mat', 'img_0616.jpg', 'img_0010.jpg', 'img_0557_ann.mat', 'img_1054_ann.mat', 'img_0959.jpg', 'img_0648.jpg', 'img_0214_ann.mat', 'img_0821_ann.mat', 'img_0059.jpg', 'img_0625.jpg', 'img_1164_ann.mat', 'img_0398_ann.mat', 'img_0375_ann.mat', 'img_0017_ann.mat', 'img_0008.jpg', 'img_0975_ann.mat', 'img_0173.jpg', 'img_0492_ann.mat', 'img_0850_ann.mat', 'img_0822_ann.mat', 'img_1188_ann.mat', 'img_0187_ann.mat', 'img_0226_ann.mat', 'img_0342_ann.mat', 'img_0032_ann.mat', 'img_1108_ann.mat', 'img_0599.jpg', 'img_1142.jpg', 'img_0180_ann.mat', 'img_0287.jpg', 'img_0436_ann.mat', 'img_0031_ann.mat', 'img_0816.jpg', 'img_0853.jpg', 'img_0523.jpg', 'img_0250.jpg', 'img_0629.jpg', 'img_0216_ann.mat', 'img_0477.jpg', 'img_0369_ann.mat', 'img_0409.jpg', 'img_0832.jpg', 'img_1165_ann.mat', 'img_0734.jpg', 'img_1021.jpg', 'img_0517_ann.mat', 'img_0084_ann.mat', 'img_0624.jpg', 'img_0837.jpg', 'img_0271_ann.mat', 'img_0165.jpg', 'img_0502.jpg', 'img_0674_ann.mat', 'img_0947.jpg', 'img_1153.jpg', 'img_1118_ann.mat', 'img_0158_ann.mat', 'img_0091.jpg', 'img_0814.jpg', 'img_0702.jpg', 'img_0870_ann.mat', 'img_0786.jpg', 'img_0479.jpg', 'img_0613.jpg', 'img_0304.jpg', 'img_0822.jpg', 'img_0934_ann.mat', 'img_0406_ann.mat', 'img_0672_ann.mat', 'img_0164_ann.mat', 'img_0255_ann.mat', 'img_1042.jpg', 'img_0938_ann.mat', 'img_0905.jpg', 'img_0309_ann.mat', 'img_0207_ann.mat', 'img_0437_ann.mat', 'img_0378_ann.mat', 'img_0071_ann.mat', 'img_0716_ann.mat', 'img_0932.jpg', 'img_0313_ann.mat', 'img_0095.jpg', 'img_0246.jpg', 'img_0229_ann.mat', 'img_0614.jpg', 'img_0446.jpg', 'img_0296.jpg', 'img_0466_ann.mat', 'img_0205.jpg', 'img_0734_ann.mat', 'img_0172.jpg', 'img_1000.jpg', 'img_0547_ann.mat', 'img_0448.jpg', 'img_0943_ann.mat', 'img_1083_ann.mat', 'img_0615_ann.mat', 'img_0799.jpg', 'img_0095_ann.mat', 'img_0518_ann.mat', 'img_0887_ann.mat', 'img_0861.jpg', 'img_0527_ann.mat', 'img_0270.jpg', 'img_1187_ann.mat', 'img_0937.jpg', 'img_1036_ann.mat', 'img_0714_ann.mat', 'img_0344_ann.mat', 'img_0911_ann.mat', 'img_0145_ann.mat', 'img_0343_ann.mat', 'img_0844.jpg', 'img_0385.jpg', 'img_0970.jpg', 'img_0926.jpg', 'img_0431.jpg', 'img_0908.jpg', 'img_0132_ann.mat', 'img_0328_ann.mat', 'img_0630_ann.mat', 'img_0727.jpg', 'img_0923_ann.mat', 'img_0836_ann.mat', 'img_0250_ann.mat', 'img_0580_ann.mat', 'img_0098_ann.mat', 'img_0855_ann.mat', 'img_0423.jpg', 'img_0133_ann.mat', 'img_0562.jpg', 'img_0700.jpg', 'img_0740_ann.mat', 'img_0496.jpg', 'img_1123_ann.mat', 'img_0536_ann.mat', 'img_1027.jpg', 'img_0593.jpg', 'img_0774_ann.mat', 'img_0985.jpg', 'img_0004.jpg', 'img_0009.jpg', 'img_0277.jpg', 'img_0844_ann.mat', 'img_1071.jpg', 'img_0526.jpg', 'img_0343.jpg', 'img_1063_ann.mat', 'img_0706_ann.mat', 'img_1015.jpg', 'img_0065.jpg', 'img_1134.jpg', 'img_0766_ann.mat', 'img_1046_ann.mat', 'img_0115.jpg', 'img_0488_ann.mat', 'img_0812.jpg', 'img_0332.jpg', 'img_0311.jpg', 'img_0333_ann.mat', 'img_0636.jpg', 'img_1041.jpg', 'img_0334_ann.mat', 'img_1097.jpg', 'img_1101_ann.mat', 'img_1184_ann.mat', 'img_0371_ann.mat', 'img_0779_ann.mat', 'img_0681_ann.mat', 'img_0412.jpg', 'img_0867_ann.mat', 'img_0818_ann.mat', 'img_0189.jpg', 'img_0563_ann.mat', 'img_0748_ann.mat', 'img_0968_ann.mat', 'img_0898_ann.mat', 'img_0410_ann.mat', 'img_0090.jpg', 'img_0936_ann.mat', 'img_0695_ann.mat', 'img_0857.jpg', 'img_0061_ann.mat', 'img_0771.jpg', 'img_0186.jpg', 'img_0963_ann.mat', 'img_0317_ann.mat', 'img_0227.jpg', 'img_0185_ann.mat', 'img_0261_ann.mat', 'img_0094_ann.mat', 'img_0014.jpg', 'img_1102.jpg', 'img_0648_ann.mat', 'img_0784_ann.mat', 'img_0641.jpg', 'img_0358_ann.mat', 'img_0348.jpg', 'img_0834.jpg', 'img_0253.jpg', 'img_0335_ann.mat', 'img_0599_ann.mat', 'img_0252_ann.mat', 'img_0650_ann.mat', 'img_0889_ann.mat', 'img_0131.jpg', 'img_0583.jpg', 'img_0373_ann.mat', 'img_1038.jpg', 'img_0898.jpg', 'img_0675.jpg', 'img_0923.jpg', 'img_0035_ann.mat', 'img_0790.jpg', 'img_0316_ann.mat', 'img_1081.jpg', 'img_0991.jpg', 'img_0016_ann.mat', 'img_0185.jpg', 'img_0036.jpg', 'img_0351.jpg', 'img_0006.jpg', 'img_0691_ann.mat', 'img_0907.jpg', 'img_1023.jpg', 'img_0640_ann.mat', 'img_0824.jpg', 'img_0281.jpg', 'img_1196_ann.mat', 'img_0907_ann.mat', 'img_1046.jpg', 'img_0307_ann.mat', 'img_0171.jpg', 'img_0300_ann.mat', 'img_0058.jpg', 'img_0178_ann.mat', 'img_1061.jpg', 'img_0680.jpg', 'img_0532.jpg', 'img_1036.jpg', 'img_0705_ann.mat', 'img_1039_ann.mat', 'img_0428.jpg', 'img_0384.jpg', 'img_1014_ann.mat', 'img_1200.jpg', 'img_1074.jpg', 'img_0841.jpg', 'img_0166_ann.mat', 'img_0952_ann.mat', 'img_0403.jpg', 'img_0543.jpg', 'img_0360_ann.mat', 'img_0568.jpg', 'img_0850.jpg', 'img_0794_ann.mat', 'img_1178_ann.mat', 'img_0570_ann.mat', 'img_1131.jpg', 'img_1191_ann.mat', 'img_0283.jpg', 'img_0782_ann.mat', 'img_0595.jpg', 'img_0701_ann.mat', 'img_0642_ann.mat', 'img_0679.jpg', 'img_1105_ann.mat', 'img_0941_ann.mat', 'img_1160.jpg', 'img_0168_ann.mat', 'img_0385_ann.mat', 'img_0519_ann.mat', 'img_0694.jpg', 'img_1183_ann.mat', 'img_0859.jpg', 'img_0109.jpg', 'img_0956.jpg', 'img_0140_ann.mat', 'img_0150.jpg', 'img_0934.jpg', 'img_1128_ann.mat', 'img_0463_ann.mat', 'img_1091_ann.mat', 'img_0044_ann.mat', 'img_1192_ann.mat', 'img_0689_ann.mat', 'img_1016_ann.mat', 'img_1191.jpg', 'img_0127.jpg', 'img_0085_ann.mat', 'img_0161_ann.mat', 'img_0571.jpg', 'img_0532_ann.mat', 'img_0875_ann.mat', 'img_0609_ann.mat', 'img_0996_ann.mat', 'img_1052.jpg', 'img_0015_ann.mat', 'img_0893.jpg', 'img_0657.jpg', 'img_0025_ann.mat', 'img_1113.jpg', 'img_0154.jpg', 'img_0382.jpg', 'img_0515_ann.mat', 'img_0063_ann.mat', 'img_0480.jpg', 'img_1030.jpg', 'img_0537_ann.mat', 'img_0121.jpg', 'img_0182.jpg', 'img_0640.jpg', 'img_0744.jpg', 'img_0504_ann.mat', 'img_0236_ann.mat', 'img_0704_ann.mat', 'img_0684_ann.mat', 'img_1146_ann.mat', 'img_0881_ann.mat', 'img_0618_ann.mat', 'img_0424.jpg', 'img_0292.jpg', 'img_0765.jpg', 'img_0047_ann.mat', 'img_0808.jpg', 'img_0865.jpg', 'img_0487_ann.mat', 'img_0195_ann.mat', 'img_0615.jpg', 'img_0656.jpg', 'img_0713_ann.mat', 'img_1058.jpg', 'img_0703.jpg', 'img_0579.jpg', 'img_0604.jpg', 'img_0981.jpg', 'img_0086.jpg', 'img_0846.jpg', 'img_1158.jpg', 'img_0026.jpg', 'img_0974.jpg', 'img_0831_ann.mat', 'img_0893_ann.mat', 'img_0379.jpg', 'img_0791.jpg', 'img_0274_ann.mat', 'img_0997.jpg', 'img_0280_ann.mat', 'img_0092.jpg', 'img_0458_ann.mat', 'img_0645_ann.mat', 'img_0032.jpg', 'img_1132.jpg', 'img_0836.jpg', 'img_0092_ann.mat', 'img_0765_ann.mat', 'img_1193_ann.mat', 'img_1154.jpg', 'img_0162_ann.mat', 'img_1013_ann.mat', 'img_0881.jpg', 'img_0123.jpg', 'img_0079_ann.mat', 'img_0100_ann.mat', 'img_0142.jpg', 'img_0225.jpg', 'img_0482.jpg', 'img_0693.jpg', 'img_0612.jpg', 'img_0336_ann.mat', 'img_0675_ann.mat', 'img_0080.jpg', 'img_0968.jpg', 'img_0823_ann.mat', 'img_0821.jpg', 'img_1109.jpg', 'img_0767_ann.mat', 'img_0179.jpg', 'img_0026_ann.mat', 'img_0326.jpg', 'img_0291.jpg', 'img_0238_ann.mat', 'img_0738_ann.mat', 'img_0166.jpg', 'img_0195.jpg', 'img_0330_ann.mat', 'img_0209.jpg', 'img_0513.jpg', 'img_0589_ann.mat', 'img_0002.jpg', 'img_0646_ann.mat', 'img_0051.jpg', 'img_0499.jpg', 'img_0115_ann.mat', 'img_0303.jpg', 'img_0087.jpg', 'img_1118.jpg', 'img_0167_ann.mat', 'img_0554_ann.mat', 'img_0562_ann.mat', 'img_1027_ann.mat', 'img_0549.jpg', 'img_0434_ann.mat', 'img_0393.jpg', 'img_0508.jpg', 'img_0572.jpg', 'img_0308_ann.mat', 'img_1117.jpg', 'img_0692_ann.mat', 'img_0863.jpg', 'img_0621_ann.mat', 'img_0930.jpg', 'img_1182.jpg', 'img_1123.jpg', 'img_0101.jpg', 'img_0644.jpg', 'img_0076_ann.mat', 'img_1039.jpg', 'img_0281_ann.mat', 'img_0830.jpg', 'img_0103_ann.mat', 'img_0910_ann.mat', 'img_1161_ann.mat', 'img_0120_ann.mat', 'img_0665.jpg', 'img_0564.jpg', 'img_0641_ann.mat', 'img_0380_ann.mat', 'img_1148.jpg', 'img_0883.jpg', 'img_0096_ann.mat', 'img_1161.jpg', 'img_0110.jpg', 'img_0802.jpg', 'img_0777_ann.mat', 'img_0088_ann.mat', 'img_0129_ann.mat', 'img_0810.jpg', 'img_0474_ann.mat', 'img_0084.jpg', 'img_0974_ann.mat', 'img_0197.jpg', 'img_0509_ann.mat', 'img_1119.jpg', 'img_0206_ann.mat', 'img_0772.jpg', 'img_0207.jpg', 'img_0136.jpg', 'img_0082_ann.mat', 'img_0434.jpg', 'img_0698_ann.mat', 'img_0323_ann.mat', 'img_1061_ann.mat', 'img_0354.jpg', 'img_0187.jpg', 'img_0461.jpg', 'img_0795.jpg', 'img_0286.jpg', 'img_0141_ann.mat', 'img_0359_ann.mat', 'img_0270_ann.mat', 'img_0696.jpg', 'img_0684.jpg', 'img_1007.jpg', 'img_0762_ann.mat', 'img_0387_ann.mat', 'img_0560.jpg', 'img_0382_ann.mat', 'img_1190_ann.mat', 'img_0450_ann.mat', 'img_0370.jpg', 'img_0272.jpg', 'img_1138_ann.mat', 'img_0300.jpg', 'img_0397_ann.mat', 'img_0793.jpg', 'img_0278.jpg', 'img_0038_ann.mat', 'img_0914_ann.mat', 'img_0492.jpg', 'img_1150.jpg', 'img_0792_ann.mat', 'img_1076_ann.mat', 'img_0150_ann.mat', 'img_0755.jpg', 'img_1073_ann.mat', 'img_1010_ann.mat', 'img_0454_ann.mat', 'img_0181.jpg', 'img_0772_ann.mat', 'img_0041.jpg', 'img_0983.jpg', 'img_0331.jpg', 'img_1135.jpg', 'img_0366.jpg', 'img_0267.jpg', 'img_0472.jpg', 'img_0932_ann.mat', 'img_0975.jpg', 'img_1066_ann.mat', 'img_0239.jpg', 'img_1139_ann.mat', 'img_0024_ann.mat', 'img_0529.jpg', 'img_0350_ann.mat', 'img_0008_ann.mat', 'img_0063.jpg', 'img_1070.jpg', 'img_0344.jpg', 'img_1005_ann.mat', 'img_0322_ann.mat', 'img_0227_ann.mat', 'img_0569_ann.mat', 'img_0202_ann.mat', 'img_0610_ann.mat', 'img_0146_ann.mat', 'img_0901_ann.mat', 'img_1030_ann.mat', 'img_0754_ann.mat', 'img_0698.jpg', 'img_0036_ann.mat', 'img_0761_ann.mat', 'img_1044_ann.mat', 'img_0960.jpg', 'img_0487.jpg', 'img_0175_ann.mat', 'img_1018.jpg', 'img_0269_ann.mat', 'img_0896.jpg', 'img_0121_ann.mat', 'img_0408.jpg', 'img_0246_ann.mat', 'img_0369.jpg', 'img_0338_ann.mat', 'img_0686_ann.mat', 'img_0628_ann.mat', 'img_0146.jpg', 'img_0479_ann.mat', 'img_1096.jpg', 'img_0647.jpg', 'img_1008.jpg', 'img_0303_ann.mat', 'img_0967.jpg', 'img_0124_ann.mat', 'img_0159_ann.mat', 'img_0015.jpg', 'img_0811.jpg', 'img_0219_ann.mat', 'img_0299.jpg', 'img_0525_ann.mat', 'img_0294.jpg', 'img_0446_ann.mat', 'img_0784.jpg', 'img_0852_ann.mat', 'img_0585.jpg', 'img_0266_ann.mat', 'img_0372_ann.mat', 'img_0196.jpg', 'img_1137.jpg', 'img_0439.jpg', 'img_0582.jpg', 'img_0159.jpg', 'img_0994_ann.mat', 'img_0489_ann.mat', 'img_0567.jpg', 'img_0386_ann.mat', 'img_0730_ann.mat', 'img_0429_ann.mat', 'img_0935.jpg', 'img_0200.jpg', 'img_0820_ann.mat', 'img_0674.jpg', 'img_0909.jpg', 'img_0113.jpg', 'img_0256_ann.mat', 'img_1073.jpg', 'img_0034_ann.mat', 'img_0842.jpg', 'img_0046.jpg', 'img_0607.jpg', 'img_0240_ann.mat', 'img_0888.jpg', 'img_0077.jpg', 'img_1198_ann.mat', 'img_0874_ann.mat', 'img_0933.jpg', 'img_0152.jpg', 'img_0494_ann.mat', 'img_0735.jpg', 'img_0736.jpg', 'img_0989_ann.mat', 'img_0878_ann.mat', 'img_1060_ann.mat', 'img_0839_ann.mat', 'img_0105.jpg', 'img_0759_ann.mat', 'img_0917.jpg', 'img_1055.jpg', 'img_0059_ann.mat', 'img_0164.jpg', 'img_0100.jpg', 'img_0745.jpg', 'img_0295_ann.mat', 'img_0528.jpg', 'img_0787_ann.mat', 'img_0817_ann.mat', 'img_0193_ann.mat', 'img_0916_ann.mat', 'img_0819_ann.mat', 'img_0341.jpg', 'img_0921.jpg', 'img_0804.jpg', 'img_0099.jpg', 'img_0892.jpg', 'img_0682.jpg', 'img_0222.jpg', 'img_0752.jpg', 'img_0460_ann.mat', 'img_0042_ann.mat', 'img_0813_ann.mat', 'img_0589.jpg', 'img_0380.jpg', 'img_0302_ann.mat', 'img_0131_ann.mat', 'img_1201_ann.mat', 'img_1089.jpg', 'img_0676_ann.mat', 'img_0876.jpg', 'img_0431_ann.mat', 'img_0730.jpg', 'img_0827_ann.mat', 'img_0422.jpg', 'img_1050_ann.mat', 'img_0265.jpg', 'img_0673.jpg', 'img_1006.jpg', 'img_1087_ann.mat', 'img_0425.jpg', 'img_0147.jpg', 'img_0316.jpg', 'img_0467_ann.mat', 'img_1199_ann.mat', 'img_0709_ann.mat', 'img_0918_ann.mat', 'img_1047_ann.mat', 'img_0458.jpg', 'img_0255.jpg', 'img_0814_ann.mat', 'img_0951.jpg', 'img_0199.jpg', 'img_0162.jpg', 'img_0720_ann.mat', 'img_0719_ann.mat', 'img_0847.jpg', 'img_0083_ann.mat', 'img_1093.jpg', 'img_0163_ann.mat', 'img_0944.jpg', 'img_1140.jpg', 'img_0642.jpg', 'img_0856.jpg', 'img_0761.jpg', 'img_0696_ann.mat', 'img_0962_ann.mat', 'img_0710_ann.mat', 'img_0981_ann.mat', 'img_0390_ann.mat', 'img_0402_ann.mat', 'img_0223_ann.mat', 'img_0271.jpg', 'img_0521_ann.mat', 'img_0039.jpg', 'img_0414.jpg', 'img_1119_ann.mat', 'img_0993.jpg', 'img_0842_ann.mat', 'img_0226.jpg', 'img_1072.jpg', 'img_0470_ann.mat', 'img_0563.jpg', 'img_0581.jpg', 'img_0938.jpg', 'img_0011_ann.mat', 'img_0349_ann.mat', 'img_0966.jpg', 'img_0485_ann.mat', 'img_0835.jpg', 'img_0614_ann.mat', 'img_0153.jpg', 'img_0971.jpg', 'img_0389.jpg', 'img_0230.jpg', 'img_0029.jpg', 'img_0415_ann.mat', 'img_0573_ann.mat', 'img_0426_ann.mat', 'img_0605.jpg', 'img_1050.jpg', 'img_0018_ann.mat', 'img_0266.jpg', 'img_0467.jpg', 'img_0973.jpg', 'img_0940.jpg', 'img_0408_ann.mat', 'img_1053.jpg', 'img_0030.jpg', 'img_0901.jpg', 'img_0388.jpg', 'img_0276.jpg', 'img_0451_ann.mat', 'img_0743_ann.mat', 'img_1017_ann.mat', 'img_0107.jpg', 'img_1131_ann.mat', 'img_0726.jpg', 'img_1176.jpg', 'img_1184.jpg', 'img_0858_ann.mat', 'img_0581_ann.mat', 'img_0172_ann.mat', 'img_0517.jpg', 'img_1051_ann.mat', 'img_0811_ann.mat', 'img_0038.jpg', 'img_0418.jpg', 'img_0597.jpg', 'img_0133.jpg', 'img_0420_ann.mat', 'img_0064_ann.mat', 'img_1163_ann.mat', 'img_0945.jpg', 'img_0701.jpg', 'img_0213.jpg', 'img_0094.jpg', 'img_0537.jpg', 'img_1011_ann.mat', 'img_0502_ann.mat', 'img_0728_ann.mat', 'img_0527.jpg', 'img_0632.jpg', 'img_0459.jpg', 'img_0694_ann.mat', 'img_1048_ann.mat', 'img_0232_ann.mat', 'img_0416.jpg', 'img_0565_ann.mat', 'img_0609.jpg', 'img_1025.jpg', 'img_0111_ann.mat', 'img_1058_ann.mat', 'img_0386.jpg', 'img_1113_ann.mat', 'img_0017.jpg', 'img_0218.jpg', 'img_0471.jpg', 'img_0407.jpg', 'img_1015_ann.mat', 'img_0324.jpg', 'img_0849_ann.mat', 'img_0924_ann.mat', 'img_0884_ann.mat', 'img_0409_ann.mat', 'img_0242.jpg', 'img_0002_ann.mat', 'img_0949.jpg', 'img_0365_ann.mat', 'img_0181_ann.mat', 'img_0651_ann.mat', 'img_0998_ann.mat', 'img_0449_ann.mat', 'img_0508_ann.mat', 'img_0285.jpg', 'img_0596.jpg', 'img_1116.jpg', 'img_0073_ann.mat', 'img_0178.jpg', 'img_0447.jpg', 'img_0005.jpg', 'img_0284.jpg', 'img_1157_ann.mat', 'img_0394.jpg', 'img_0952.jpg', 'img_0566.jpg', 'img_0442_ann.mat', 'img_0312.jpg', 'img_1085_ann.mat', 'img_0559_ann.mat', 'img_0089_ann.mat', 'img_0376.jpg', 'img_1112.jpg', 'img_0306_ann.mat', 'img_0355_ann.mat', 'img_0208_ann.mat', 'img_0954.jpg', 'img_0737.jpg', 'img_0851.jpg', 'img_0840_ann.mat', 'img_1049.jpg', 'img_0441.jpg', 'img_0533.jpg', 'img_0512.jpg', 'img_0274.jpg', 'img_0904.jpg', 'img_0334.jpg', 'img_0219.jpg', 'img_0798_ann.mat', 'img_0072.jpg', 'img_1048.jpg', 'img_0552.jpg', 'img_0456.jpg', 'img_0960_ann.mat', 'img_0702_ann.mat', 'img_0966_ann.mat', 'img_0586_ann.mat', 'img_0194.jpg', 'img_1147.jpg', 'img_1143_ann.mat', 'img_1026.jpg', 'img_0685_ann.mat', 'img_1035_ann.mat', 'img_0432.jpg', 'img_0631_ann.mat', 'img_0936.jpg', 'img_0625_ann.mat', 'img_0140.jpg', 'img_0445.jpg', 'img_0982.jpg', 'img_1096_ann.mat', 'img_0170_ann.mat', 'img_0993_ann.mat', 'img_0941.jpg', 'img_0985_ann.mat', 'img_1086_ann.mat', 'img_0075.jpg', 'img_0107_ann.mat', 'img_1175_ann.mat', 'img_1185_ann.mat', 'img_0909_ann.mat', 'img_0988.jpg', 'img_0364.jpg', 'img_0328.jpg', 'img_0209_ann.mat', 'img_1136_ann.mat', 'img_0672.jpg', 'img_0506_ann.mat', 'img_0920_ann.mat', 'img_0984.jpg', 'img_0654_ann.mat', 'img_0550.jpg', 'img_0695.jpg', 'img_0289.jpg', 'img_0862_ann.mat', 'img_1199.jpg', 'img_0163.jpg', 'img_0880_ann.mat', 'img_1173.jpg', 'img_0298.jpg', 'img_0136_ann.mat', 'img_0363_ann.mat', 'img_0278_ann.mat', 'img_0787.jpg', 'img_0049.jpg', 'img_0066_ann.mat', 'img_0258.jpg', 'img_1122_ann.mat', 'img_0231_ann.mat', 'img_0884.jpg', 'img_0999.jpg', 'img_1182_ann.mat', 'img_0391.jpg', 'img_0488.jpg', 'img_0073.jpg', 'img_0170.jpg', 'img_0586.jpg', 'img_0922_ann.mat', 'img_0872.jpg', 'img_0268_ann.mat', 'img_0362.jpg', 'img_0395_ann.mat', 'img_0988_ann.mat', 'img_0040.jpg', 'img_0717_ann.mat', 'img_0213_ann.mat', 'img_0470.jpg', 'img_0575_ann.mat', 'img_0459_ann.mat', 'img_0108_ann.mat', 'img_0039_ann.mat', 'img_0803.jpg', 'img_0768_ann.mat', 'img_0638_ann.mat', 'img_0894_ann.mat', 'img_1107_ann.mat', 'img_1154_ann.mat', 'img_0120.jpg', 'img_0055.jpg', 'img_0401_ann.mat', 'img_0432_ann.mat', 'img_0184_ann.mat', 'img_0317.jpg', 'img_0662_ann.mat', 'img_0505.jpg', 'img_0783_ann.mat', 'img_1159_ann.mat', 'img_0742_ann.mat', 'img_0483.jpg', 'img_1001_ann.mat', 'img_1022.jpg', 'img_0595_ann.mat', 'img_1107.jpg', 'img_0486.jpg', 'img_0005_ann.mat', 'img_0503_ann.mat', 'img_0838_ann.mat', 'img_1196.jpg', 'img_0598_ann.mat', 'img_0067.jpg', 'img_0090_ann.mat', 'img_0057.jpg', 'img_0302.jpg', 'img_0718_ann.mat', 'img_0744_ann.mat', 'img_0330.jpg', 'img_0969.jpg', 'img_0134_ann.mat', 'img_0709.jpg', 'img_0348_ann.mat', 'img_0620_ann.mat', 'img_0982_ann.mat', 'img_0617.jpg', 'img_0323.jpg', 'img_0643.jpg', 'img_1120_ann.mat', 'img_0493_ann.mat', 'img_1023_ann.mat', 'img_0139.jpg', 'img_0576.jpg', 'img_0050_ann.mat', 'img_0877.jpg', 'img_1130.jpg', 'img_0399.jpg', 'img_0455_ann.mat', 'img_1019.jpg', 'img_0485.jpg', 'img_0723_ann.mat', 'img_1065_ann.mat', 'img_0304_ann.mat', 'img_0820.jpg', 'img_0377.jpg', 'img_0276_ann.mat', 'img_1124.jpg', 'img_1195.jpg', 'img_0447_ann.mat', 'img_0626_ann.mat', 'img_1047.jpg', 'img_0367.jpg', 'img_0436.jpg', 'img_1076.jpg', 'img_0928.jpg', 'img_0775.jpg', 'img_0214.jpg', 'img_0143_ann.mat', 'img_1037_ann.mat', 'img_0707.jpg', 'img_1042_ann.mat', 'img_0355.jpg', 'img_0732.jpg', 'img_0372.jpg', 'img_0260.jpg', 'img_0778_ann.mat', 'img_0155_ann.mat', 'img_0259_ann.mat', 'img_0440.jpg', 'img_0160_ann.mat', 'img_0043.jpg', 'img_0049_ann.mat', 'img_0285_ann.mat', 'img_1078_ann.mat', 'img_0060_ann.mat', 'img_0498.jpg', 'img_0417_ann.mat', 'img_1056_ann.mat', 'img_0805_ann.mat', 'img_0079.jpg', 'img_0406.jpg', 'img_0664_ann.mat', 'img_0681.jpg', 'img_0503.jpg', 'img_0428_ann.mat', 'img_0579_ann.mat', 'img_1028_ann.mat', 'img_0022.jpg', 'img_0925_ann.mat', 'img_0279_ann.mat', 'img_0797.jpg', 'img_0233_ann.mat', 'img_0986_ann.mat', 'img_0977.jpg', 'img_0741.jpg', 'img_0773.jpg', 'img_0882_ann.mat', 'img_0809.jpg', 'img_0358.jpg', 'img_0757.jpg', 'img_0430.jpg', 'img_0445_ann.mat', 'img_0301.jpg', 'img_0690_ann.mat', 'img_0539_ann.mat', 'img_0661.jpg', 'img_0715_ann.mat', 'img_0545.jpg', 'img_0547.jpg', 'img_0514.jpg', 'img_0064.jpg', 'img_0497_ann.mat', 'img_0746_ann.mat', 'img_0967_ann.mat', 'img_0217_ann.mat', 'img_0098.jpg', 'img_1003_ann.mat', 'img_0236.jpg', 'img_0394_ann.mat', 'img_0318_ann.mat', 'img_1014.jpg', 'img_1011.jpg', 'img_0677_ann.mat', 'img_0003.jpg', 'img_1142_ann.mat', 'img_0545_ann.mat', 'img_1116_ann.mat', 'img_0628.jpg', 'img_1019_ann.mat', 'img_0864_ann.mat', 'img_0510_ann.mat', 'img_0158.jpg', 'img_0443.jpg', 'img_0023.jpg', 'img_0081.jpg', 'img_0212.jpg', 'img_1090.jpg', 'img_0326_ann.mat', 'img_1132_ann.mat', 'img_0990.jpg', 'img_1163.jpg', 'img_0327.jpg', 'img_0312_ann.mat', 'img_0976.jpg', 'img_0729.jpg', 'img_0033.jpg', 'img_0992_ann.mat', 'img_0123_ann.mat', 'img_0913_ann.mat', 'img_0883_ann.mat', 'img_1133_ann.mat', 'img_0444_ann.mat', 'img_1126_ann.mat', 'img_0942.jpg', 'img_1008_ann.mat', 'img_0908_ann.mat', 'img_0332_ann.mat', 'img_1091.jpg', 'img_0062.jpg', 'img_0613_ann.mat', 'img_0915.jpg', 'img_1057.jpg', 'img_0950_ann.mat', 'img_0438.jpg', 'img_0892_ann.mat', 'img_0114.jpg', 'img_0156_ann.mat', 'img_0033_ann.mat', 'img_0102.jpg', 'img_1037.jpg', 'img_0235_ann.mat', 'img_1103_ann.mat', 'img_0900_ann.mat', 'img_1174_ann.mat', 'img_0156.jpg', 'img_0597_ann.mat', 'img_0139_ann.mat', 'img_1003.jpg', 'img_0723.jpg', 'img_0351_ann.mat', 'img_0455.jpg', 'img_1086.jpg', 'img_1012.jpg', 'img_0549_ann.mat', 'img_1138.jpg', 'img_0009_ann.mat', 'img_0356.jpg', 'img_1085.jpg', 'img_0370_ann.mat', 'img_0669.jpg', 'img_0645.jpg', 'img_0961_ann.mat', 'img_0424_ann.mat', 'img_0440_ann.mat', 'img_0957.jpg', 'img_0574.jpg', 'img_0792.jpg', 'img_0425_ann.mat', 'img_0860.jpg', 'img_0314.jpg', 'img_0710.jpg', 'img_0087_ann.mat', 'img_0798.jpg', 'img_0829_ann.mat', 'img_0153_ann.mat', 'img_0724_ann.mat', 'img_0753_ann.mat', 'img_1029_ann.mat', 'img_0678.jpg', 'img_0310_ann.mat', 'img_0366_ann.mat', 'img_1064_ann.mat', 'img_0877_ann.mat', 'img_0403_ann.mat', 'img_0169_ann.mat', 'img_0138.jpg', 'img_0869.jpg', 'img_0450.jpg', 'img_0531_ann.mat', 'img_1095_ann.mat', 'img_0014_ann.mat', 'img_0208.jpg', 'img_0030_ann.mat', 'img_0746.jpg', 'img_0731_ann.mat', 'img_0053_ann.mat', 'img_0551_ann.mat', 'img_0023_ann.mat', 'img_1172_ann.mat', 'img_0460.jpg', 'img_0994.jpg', 'img_1165.jpg', 'img_0476.jpg', 'img_0875.jpg', 'img_0758_ann.mat', 'img_0732_ann.mat', 'img_0865_ann.mat', 'img_0584.jpg', 'img_0028.jpg', 'img_0189_ann.mat', 'img_0879.jpg', 'img_0145.jpg', 'img_0661_ann.mat', 'img_0871.jpg', 'img_1069_ann.mat', 'img_0498_ann.mat', 'img_0065_ann.mat', 'img_0013_ann.mat', 'img_0347_ann.mat', 'img_0507.jpg', 'img_0374_ann.mat', 'img_1056.jpg', 'img_0183.jpg', 'img_0045.jpg', 'img_0287_ann.mat', 'img_0786_ann.mat', 'img_0516.jpg', 'img_0242_ann.mat', 'img_0978.jpg', 'img_0957_ann.mat', 'img_1192.jpg', 'img_0342.jpg', 'img_0810_ann.mat', 'img_0544_ann.mat', 'img_0152_ann.mat', 'img_0011.jpg', 'img_0874.jpg', 'img_0534_ann.mat', 'img_0950.jpg', 'img_0688_ann.mat', 'img_0891_ann.mat', 'img_0078_ann.mat', 'img_0128_ann.mat', 'img_0396.jpg', 'img_0221_ann.mat', 'img_0078.jpg', 'img_0917_ann.mat', 'img_0135_ann.mat', 'img_0249_ann.mat', 'img_0813.jpg', 'img_0751_ann.mat', 'img_0243_ann.mat', 'img_0655.jpg', 'img_1020_ann.mat', 'img_0368_ann.mat', 'img_0894.jpg', 'img_1077.jpg', 'img_0729_ann.mat', 'img_0088.jpg', 'img_0198_ann.mat', 'img_0257_ann.mat', 'img_1158_ann.mat', 'img_1098.jpg', 'img_0053.jpg', 'img_1031_ann.mat', 'img_1141.jpg', 'img_0220_ann.mat', 'img_0392_ann.mat', 'img_0644_ann.mat', 'img_0335.jpg', 'img_0069.jpg', 'img_0925.jpg', 'img_0606.jpg', 'img_1062_ann.mat', 'img_0655_ann.mat', 'img_0174_ann.mat', 'img_0837_ann.mat', 'img_0838.jpg', 'img_1136.jpg', 'img_1084.jpg', 'img_1094_ann.mat', 'img_0405_ann.mat', 'img_1088.jpg', 'img_0315.jpg', 'img_0111.jpg', 'img_0068.jpg', 'img_0543_ann.mat', 'img_0461_ann.mat', 'img_1111.jpg', 'img_1129.jpg', 'img_0264_ann.mat', 'img_0143.jpg', 'img_0990_ann.mat', 'img_0724.jpg', 'img_0972.jpg', 'img_0167.jpg', 'img_1185.jpg', 'img_0712.jpg', 'img_0244.jpg', 'img_0151_ann.mat', 'img_1099_ann.mat', 'img_0097_ann.mat', 'img_0912_ann.mat', 'img_0659_ann.mat', 'img_0297.jpg', 'img_0093.jpg', 'img_0662.jpg', 'img_0048.jpg', 'img_1148_ann.mat', 'img_0393_ann.mat', 'img_0577_ann.mat', 'img_0044.jpg', 'img_1013.jpg', 'img_1067_ann.mat', 'img_0260_ann.mat', 'img_1104_ann.mat', 'img_0862.jpg', 'img_0420.jpg', 'img_0896_ann.mat', 'img_0795_ann.mat', 'img_0711_ann.mat', 'img_0677.jpg', 'img_1082.jpg', 'img_1145_ann.mat', 'img_0188_ann.mat', 'img_0725.jpg', 'img_1033.jpg', 'img_0419_ann.mat', 'img_0809_ann.mat', 'img_0251.jpg', 'img_0256.jpg', 'img_0329.jpg', 'img_0442.jpg', 'img_0267_ann.mat', 'img_1177.jpg', 'img_0801_ann.mat', 'img_0223.jpg', 'img_0860_ann.mat', 'img_0144.jpg', 'img_1004.jpg', 'img_0082.jpg', 'img_1179.jpg', 'img_1068_ann.mat', 'img_0318.jpg', 'img_0535.jpg', 'img_0439_ann.mat', 'img_1084_ann.mat', 'img_1200_ann.mat', 'img_0149_ann.mat', 'img_0869_ann.mat', 'img_0567_ann.mat', 'img_0841_ann.mat', 'img_1152.jpg', 'img_0793_ann.mat', 'img_0764.jpg', 'img_0478_ann.mat', 'img_0657_ann.mat', 'img_0497.jpg', 'img_1176_ann.mat', 'img_0096.jpg', 'img_0215_ann.mat', 'img_0891.jpg', 'img_0086_ann.mat', 'img_0878.jpg', 'img_0404.jpg', 'img_0992.jpg', 'img_0808_ann.mat', 'img_0134.jpg', 'img_0122_ann.mat', 'img_0400.jpg', 'img_0854_ann.mat', 'img_0564_ann.mat', 'img_0728.jpg', 'img_0688.jpg', 'img_1028.jpg', 'img_0608_ann.mat', 'img_0546_ann.mat', 'img_0770_ann.mat', 'img_0108.jpg', 'img_1115.jpg', 'img_0201_ann.mat', 'img_0535_ann.mat', 'img_0833_ann.mat', 'img_0637_ann.mat', 'img_0388_ann.mat', 'img_0799_ann.mat', 'img_0927.jpg', 'img_0750_ann.mat', 'img_0367_ann.mat', 'img_0831.jpg', 'img_0585_ann.mat', 'img_0125.jpg', 'img_0148.jpg', 'img_0513_ann.mat', 'img_0157.jpg', 'img_0247.jpg', 'img_0653.jpg', 'img_0873_ann.mat', 'img_0481.jpg', 'img_0138_ann.mat', 'img_1153_ann.mat', 'img_0659.jpg', 'img_1124_ann.mat', 'img_0903_ann.mat', 'img_0676.jpg', 'img_0305_ann.mat', 'img_0906_ann.mat', 'img_0830_ann.mat', 'img_0779.jpg', 'img_1009.jpg', 'img_0650.jpg', 'img_0392.jpg', 'img_0070.jpg', 'img_0754.jpg', 'img_0592.jpg', 'img_0647_ann.mat', 'img_0538_ann.mat', 'img_0852.jpg', 'img_0930_ann.mat', 'img_0391_ann.mat', 'img_0196_ann.mat', 'img_0377_ann.mat', 'img_0037_ann.mat', 'img_1087.jpg', 'img_0758.jpg', 'img_1099.jpg', 'img_0780.jpg', 'img_0346_ann.mat', 'img_0319.jpg', 'img_0201.jpg', 'img_0572_ann.mat', 'img_0980.jpg', 'img_0217.jpg', 'img_0210.jpg', 'img_0722_ann.mat', 'img_0067_ann.mat', 'img_0660.jpg', 'img_0462_ann.mat', 'img_0495_ann.mat', 'img_0211_ann.mat', 'img_0190.jpg', 'img_1034.jpg', 'img_0652.jpg', 'img_0986.jpg', 'img_0624_ann.mat', 'img_1151.jpg', 'img_0216.jpg', 'img_0616_ann.mat', 'img_0766.jpg', 'img_0653_ann.mat', 'img_1181_ann.mat', 'img_0003_ann.mat', 'img_0551.jpg', 'img_0590_ann.mat', 'img_1021_ann.mat', 'img_0703_ann.mat', 'img_0979_ann.mat', 'img_0248.jpg', 'img_0846_ann.mat', 'img_0649_ann.mat', 'img_0658_ann.mat', 'img_1078.jpg', 'img_0904_ann.mat', 'img_0530.jpg', 'img_0012_ann.mat', 'img_0826.jpg', 'img_0268.jpg', 'img_0464.jpg', 'img_0022_ann.mat', 'img_0220.jpg', 'img_0339.jpg', 'img_0478.jpg', 'img_0099_ann.mat', 'img_0743.jpg', 'img_0789.jpg', 'img_0944_ann.mat', 'img_1016.jpg', 'img_0331_ann.mat', 'img_0611.jpg', 'img_0405.jpg', 'img_0165_ann.mat', 'img_0491.jpg', 'img_0712_ann.mat', 'img_0803_ann.mat', 'img_0006_ann.mat', 'img_0588.jpg', 'img_0112.jpg', 'img_0056_ann.mat', 'img_0243.jpg', 'img_0137.jpg', 'img_0452.jpg', 'img_0245.jpg', 'img_0910.jpg', 'img_0468.jpg', 'img_0781_ann.mat', 'img_0104.jpg', 'img_0224.jpg', 'img_0555.jpg', 'img_0605_ann.mat', 'img_0469.jpg', 'img_0421.jpg', 'img_0741_ann.mat', 'img_1129_ann.mat', 'img_0294_ann.mat', 'img_0361.jpg', 'img_0101_ann.mat', 'img_1152_ann.mat', 'img_0484_ann.mat', 'img_0291_ann.mat', 'img_0720.jpg', 'img_0552_ann.mat', 'img_0763_ann.mat', 'img_0660_ann.mat', 'img_0861_ann.mat', 'img_0469_ann.mat', 'img_0783.jpg', 'img_0381_ann.mat', 'img_0224_ann.mat', 'img_0383.jpg', 'img_0767.jpg', 'img_1083.jpg', 'img_0345.jpg', 'img_0211.jpg', 'img_0299_ann.mat', 'img_0414_ann.mat', 'img_0401.jpg', 'img_0776.jpg', 'img_0410.jpg', 'img_1194.jpg', 'img_0619.jpg', 'img_0668_ann.mat', 'img_0475_ann.mat', 'img_0035.jpg', 'img_0673_ann.mat', 'img_0735_ann.mat', 'img_0958.jpg', 'img_0360.jpg', 'img_0514_ann.mat', 'img_0980_ann.mat', 'img_0889.jpg', 'img_0186_ann.mat', 'img_0019_ann.mat', 'img_1033_ann.mat', 'img_1005.jpg', 'img_1109_ann.mat', 'img_0324_ann.mat', 'img_1108.jpg', 'img_0725_ann.mat', 'img_0264.jpg', 'img_0477_ann.mat', 'img_0863_ann.mat', 'img_0557.jpg', 'img_1150_ann.mat', 'img_0340.jpg', 'img_0329_ann.mat', 'img_0666.jpg', 'img_0873.jpg', 'img_0191.jpg', 'img_0664.jpg', 'img_0177_ann.mat', 'img_0760_ann.mat', 'img_0197_ann.mat', 'img_0713.jpg', 'img_0610.jpg', 'img_0472_ann.mat', 'img_1180_ann.mat', 'img_0632_ann.mat', 'img_1145.jpg', 'img_0886_ann.mat', 'img_0321.jpg', 'img_0780_ann.mat', 'img_0797_ann.mat', 'img_0199_ann.mat', 'img_0037.jpg', 'img_0010_ann.mat', 'img_1190.jpg', 'img_0055_ann.mat', 'img_0373.jpg', 'img_0634_ann.mat', 'img_0840.jpg', 'img_0045_ann.mat', 'img_0058_ann.mat', 'img_0565.jpg', 'img_0258_ann.mat', 'img_0263_ann.mat', 'img_0417.jpg', 'img_0964.jpg', 'img_0116.jpg', 'img_0228.jpg', 'img_0142_ann.mat', 'img_1059.jpg', 'img_0937_ann.mat', 'img_0103.jpg', 'img_1092.jpg', 'img_1024_ann.mat', 'img_0721.jpg', 'img_1035.jpg', 'img_0524_ann.mat', 'img_1162_ann.mat', 'img_0690.jpg', 'img_0544.jpg', 'img_0864.jpg', 'img_0603_ann.mat', 'img_0534.jpg', 'img_0205_ann.mat', 'img_1149.jpg', 'img_0856_ann.mat', 'img_1007_ann.mat', 'img_0531.jpg', 'img_0568_ann.mat', 'img_1177_ann.mat', 'img_0144_ann.mat', 'img_0430_ann.mat', 'img_0203.jpg', 'img_0290_ann.mat', 'img_0906.jpg', 'img_0914.jpg', 'img_1175.jpg', 'img_0815.jpg', 'img_0918.jpg', 'img_0895_ann.mat']\n"
          ]
        }
      ]
    },
    {
      "cell_type": "code",
      "metadata": {
        "id": "ne7rQND4DZrb"
      },
      "source": [
        "#generate_density_map('img_0001.jpg')"
      ],
      "execution_count": 7,
      "outputs": []
    },
    {
      "cell_type": "code",
      "metadata": {
        "colab": {
          "base_uri": "https://localhost:8080/"
        },
        "id": "vIcTwUCBEaar",
        "outputId": "c38100d1-7317-470b-bc02-e898b1fe5ac8"
      },
      "source": [
        "img_test_list = []\n",
        "for item in test_list:\n",
        "  if '.jpg' in item:\n",
        "    img_test_list.append(item)\n",
        "print(len(img_test_list))"
      ],
      "execution_count": 8,
      "outputs": [
        {
          "output_type": "stream",
          "name": "stdout",
          "text": [
            "1201\n"
          ]
        }
      ]
    },
    {
      "cell_type": "code",
      "metadata": {
        "id": "GI4FgWb3Jv2w",
        "outputId": "5f944768-b372-4dc8-eca6-11e0f374e106",
        "colab": {
          "base_uri": "https://localhost:8080/"
        }
      },
      "source": [
        "dir = os.listdir(\"/content/drive/MyDrive/Model_Test_Data/UCF-QNRF/UCF-QNRF_ECCV18/ground-truth-h5-train\")\n",
        "len(dir)"
      ],
      "execution_count": 9,
      "outputs": [
        {
          "output_type": "execute_result",
          "data": {
            "text/plain": [
              "941"
            ]
          },
          "metadata": {},
          "execution_count": 9
        }
      ]
    },
    {
      "cell_type": "code",
      "metadata": {
        "id": "0QK7OMW_LBAQ",
        "outputId": "6e053f6a-dd8a-4511-aecd-cdc4e2a98c4e",
        "colab": {
          "base_uri": "https://localhost:8080/"
        }
      },
      "source": [
        "c = 0\n",
        "for path in img_test_list[940:]:\n",
        "  generate_density_map(path)\n",
        "  c = c+1\n",
        "  print(c)"
      ],
      "execution_count": null,
      "outputs": [
        {
          "output_type": "stream",
          "name": "stdout",
          "text": [
            "(2706, 4059)\n",
            "generate density...\n"
          ]
        }
      ]
    },
    {
      "cell_type": "code",
      "metadata": {
        "id": "YLk-KYADLn1M"
      },
      "source": [
        ""
      ],
      "execution_count": null,
      "outputs": []
    }
  ]
}